{
 "cells": [
  {
   "cell_type": "markdown",
   "metadata": {},
   "source": [
    "## Module 1: OOP"
   ]
  },
  {
   "cell_type": "code",
   "execution_count": 14,
   "metadata": {},
   "outputs": [],
   "source": [
    "# Problem: Design classes where one is parent & other is child. let child call the parent method. [2 Points]\n",
    "class Parent:\n",
    "    def run_parent_method(self):\n",
    "        return \"This is parent method\"\n",
    "\n",
    "class Child(Parent):\n",
    "    def run_child_method(self):\n",
    "        return \"This is child method\"\n",
    "\n",
    "assert Child().run_parent_method() == \"This is parent method\"\n",
    "assert Child().run_child_method() == \"This is child method\""
   ]
  },
  {
   "cell_type": "code",
   "execution_count": 15,
   "metadata": {},
   "outputs": [],
   "source": [
    "# Problem: add private varible for unique id that stores genearted uuid.\n",
    "#          write mechanism to access that variable for class instance object.\n",
    "#          you can use `str(uuid.uuid4())` to generate uuid    [4 Points]\n",
    "import uuid\n",
    "\n",
    "class Employee:\n",
    "    \n",
    "    def __init__(self, name, birth_year):\n",
    "       \n",
    "        self.name = name\n",
    "        self.birth_year = birth_year\n",
    "        self.__uuid=str(uuid.uuid4())\n",
    "   \n",
    "    def getUuid(self):\n",
    "        return(self.__uuid)\n",
    "    \n",
    "emp = Employee(\"Foo\", 1998)\n",
    "generated_uuid = emp.getUuid() # replace NoImplemented with private variable\n",
    "assert isinstance(generated_uuid, str)"
   ]
  },
  {
   "cell_type": "markdown",
   "metadata": {},
   "source": [
    "## Module 2: Iterables"
   ]
  },
  {
   "cell_type": "code",
   "execution_count": null,
   "metadata": {},
   "outputs": [],
   "source": [
    "# Problem: Implement __iter__() and next() method for following class [6 Points]\n",
    "class SquareIterator:\n",
    "    \n",
    "    def __init__(self, limit):\n",
    "        self.limit = limit\n",
    "        self.n = 0\n",
    "    \n",
    "    def __iter__(self):\n",
    "       \n",
    "        self.x=0\n",
    "        return self\n",
    "    \n",
    "    def __next__(self):\n",
    "        return self.next()\n",
    "    \n",
    "    def next(self):\n",
    "        x=self.x\n",
    "        if x > self.limit: \n",
    "            raise StopIteration\n",
    "        self.x=x**2;\n",
    "        return x\n",
    "        \n",
    "sq_itr1 = SquareIterator(5)\n",
    "assert list(sq_itr1) == [0, 1, 4, 9, 16]\n",
    "\n",
    "sq_itr1 = SquareIterator(101)\n",
    "assert sum(sq_itr1) == 338350"
   ]
  },
  {
   "cell_type": "code",
   "execution_count": null,
   "metadata": {},
   "outputs": [],
   "source": [
    "# Problem: Create student objects with provided list of name and enrollment id using Zip [4 Points]\n",
    "class Student:\n",
    "    \n",
    "    def __init__(self,name,roll):\n",
    "        self.name=name\n",
    "        self.roll=roll\n",
    "        \n",
    "    def zipped(self):\n",
    "        return zip(self.name,self.roll)\n",
    "\n",
    "names = [\"Rahul\", \"Shyam\", \"Krupa\", \"Aakash\"]\n",
    "enrollments = [1122, 2345, 1456, 2295]\n",
    "\n",
    "students = []\n",
    "#TODO: implement loop here\n",
    "\n",
    "assert len(students) == 4\n",
    "assert (students[0].name, students[0].roll) == (\"Rahul\", 1122)"
   ]
  },
  {
   "cell_type": "markdown",
   "metadata": {},
   "source": [
    "## Module 3: Data Processing "
   ]
  },
  {
   "cell_type": "code",
   "execution_count": null,
   "metadata": {},
   "outputs": [],
   "source": [
    "! pip3 install numpy pandas"
   ]
  },
  {
   "cell_type": "code",
   "execution_count": null,
   "metadata": {},
   "outputs": [],
   "source": [
    "import numpy as np\n",
    "np.random.seed(40)\n",
    "import random"
   ]
  },
  {
   "cell_type": "code",
   "execution_count": null,
   "metadata": {},
   "outputs": [],
   "source": [
    "# Problem: create random integer numpy array with shape (30, 20) and values between 500 & 15000  [2 Points]\n",
    "\n",
    "np_array = np.random.randint(500,15000, size=600).reshape(30,20)\n",
    "np_array"
   ]
  },
  {
   "cell_type": "code",
   "execution_count": null,
   "metadata": {},
   "outputs": [],
   "source": [
    "# Problem: use the array created above an compute following: min, max, mean, median, stadard deviation [2 Points]\n",
    "\n",
    "#min\n",
    "print(\"min:\",np_array.min())\n",
    "#max\n",
    "print(\"max\",np_array.max())\n",
    "\n",
    "#mean\n",
    "print(\"mean:\",np_array.mean())\n",
    "\n",
    "#median\n",
    "print(\"median:\",np.median(np_array))\n",
    "\n",
    "#standard deviation\n",
    "print(\"standard deviation:\",np.std(np_array))"
   ]
  },
  {
   "cell_type": "code",
   "execution_count": null,
   "metadata": {},
   "outputs": [],
   "source": [
    "# Problem: create pandas dataframe with three columns & seven rows. \n",
    "# Name, Age & Rating. Name: Person's name, Age: Person's age, Rating: credit rating out of 10    [3 Points]\n",
    "import pandas as pd\n",
    "data=[['Joy',10,3],['Bob',9,2],['Smith',18,6],['Tim',19,1],['Joey',19,5],['Leo',30,5],['Jolly',40,4]]\n",
    "df = pd.DataFrame(data,columns=['Name','Age','Rating'])\n",
    "df"
   ]
  },
  {
   "cell_type": "code",
   "execution_count": null,
   "metadata": {},
   "outputs": [],
   "source": [
    "# use the abouve dataframe and answer following question\n",
    "# what is average age & rating in dataframe  [1 Points]\n",
    "# Give the name for people who has rating more than average [1 Points]\n",
    "# Give the name for person who is oldest [1 Points]\n",
    "\n",
    "# average age \n",
    "print('avg age:',df['Age'].mean())\n",
    "#average rating\n",
    "print('avg rating:',df['Rating'].mean())\n",
    "#names of people having rating more than average\n",
    "names=[]\n",
    "avg=df['Rating'].mean()\n",
    "for i in df['Rating']:\n",
    "    if i>avg:\n",
    "        names.append(i)\n",
    "print(names)\n",
    "#names of person who is the oldest\n",
    "print('Oldest person:',df['Age'].max())"
   ]
  },
  {
   "cell_type": "code",
   "execution_count": null,
   "metadata": {},
   "outputs": [],
   "source": []
  }
 ],
 "metadata": {
  "kernelspec": {
   "display_name": "Python 3",
   "language": "python",
   "name": "python3"
  },
  "language_info": {
   "codemirror_mode": {
    "name": "ipython",
    "version": 3
   },
   "file_extension": ".py",
   "mimetype": "text/x-python",
   "name": "python",
   "nbconvert_exporter": "python",
   "pygments_lexer": "ipython3",
   "version": "3.7.6"
  }
 },
 "nbformat": 4,
 "nbformat_minor": 4
}
