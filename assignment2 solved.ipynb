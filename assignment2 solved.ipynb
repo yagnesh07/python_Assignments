{
 "cells": [
  {
   "cell_type": "markdown",
   "metadata": {},
   "source": [
    "## Module 1: Python Essentials"
   ]
  },
  {
   "cell_type": "code",
   "execution_count": 5,
   "metadata": {},
   "outputs": [],
   "source": [
    "# Problem: Use list comprehension to filter number between given bounds [4 Points]\n",
    "def filter_integers_in_bound(upper_bound, lower_bound, numbers):\n",
    "    \n",
    "    result=[i for i in numbers if i >= upper_bound and i <= lower_bound]\n",
    "    return result\n",
    "\n",
    "assert filter_integers_in_bound(3, 9, [12, 3, 6, 9, 4, 0, 24]) == [3, 6, 9, 4]\n",
    "assert filter_integers_in_bound(-7, 6, [-10, 3, 56, 19, 4, 0, -5]) == [3, 4, 0, -5]"
   ]
  },
  {
   "cell_type": "code",
   "execution_count": 14,
   "metadata": {},
   "outputs": [],
   "source": [
    "# Problem: Use set to do following on two set of strings  [4 Points]\n",
    "def return_number_of_common_words(string1, string2):\n",
    "    \n",
    "    str1=string1.split()\n",
    "    str2=string2.split()\n",
    "    set1=set(str1)\n",
    "    set2=set(str2)\n",
    "    result=len(set1&set2)\n",
    "    return result\n",
    "\n",
    "assert return_number_of_common_words(\"hi hello\", \"hi\") == 1\n",
    "assert return_number_of_common_words(\"this is testing work\", \"this is training work\") == 3\n",
    "assert return_number_of_common_words(\"work is in progress\", \"No one cares\") == 0"
   ]
  },
  {
   "cell_type": "code",
   "execution_count": 15,
   "metadata": {},
   "outputs": [],
   "source": [
    "# Problem: Returns the dictionary of words and their frequency in input string [6 Points]\n",
    "def get_word_count(input_string):\n",
    "    result = dict()\n",
    "    \n",
    "    s_string=input_string.split()\n",
    "    for i in s_string:\n",
    "        if i in result:\n",
    "            result[i]+=1\n",
    "        else:\n",
    "            result[i]=1\n",
    "    return result\n",
    "assert get_word_count(\"hi hello hi i\") == {\"hi\": 2, \"hello\": 1, \"i\": 1}"
   ]
  },
  {
   "cell_type": "code",
   "execution_count": 30,
   "metadata": {},
   "outputs": [],
   "source": [
    "# Problem: apply function on input and return result [2 Points]\n",
    "def method_runner(function, input_data):\n",
    "    \n",
    "    if function==min:\n",
    "        return min(input_data)\n",
    "    else:\n",
    "        return function(input_data)\n",
    "\n",
    "assert method_runner(min, [2, 5, 0.9, 6.4]) == 0.9\n",
    "assert method_runner(lambda x: x*x, 5) == 25\n",
    "def foo(n1):\n",
    "    return n1*n1+n1 \n",
    "assert method_runner(foo, 6) == 42"
   ]
  },
  {
   "cell_type": "markdown",
   "metadata": {},
   "source": [
    "## Module 2: OOP"
   ]
  },
  {
   "cell_type": "code",
   "execution_count": 29,
   "metadata": {},
   "outputs": [],
   "source": [
    "# Problem: 1. Design and write a class for Car with constructor. [2 Point]\n",
    "#          2. Include custom print capabilities. [1 Points] \n",
    "#          3. Also method to add & list features. [3 Points] \n",
    "#          4. Customize object compare so two cars are equal if make and model_name are same. [2 Point]\n",
    "\n",
    "\n",
    "class Car:\n",
    "    def __init__(self,name,year,model):\n",
    "        self.name=name\n",
    "        self.year=year\n",
    "        self.model=model\n",
    "        self.l1=[]\n",
    "    def __eq__(self,other):\n",
    "        return self.name==other.name and self.model==other.model\n",
    "    def __str__(self):\n",
    "        return f\"{self.name}'s model {self.model}, built in {self.year}.\"\n",
    "    def list_features(self):\n",
    "        return self.l1 \n",
    "    def add_feature(self,feature):\n",
    "        self.l1.append(feature)\n",
    "        \n",
    "\n",
    "# 1\n",
    "c = Car(\"BMW\", 2015, \"X1\")\n",
    "# 2\n",
    "assert str(c) == \"BMW's model X1, built in 2015.\"\n",
    "# 3\n",
    "assert c.list_features() == []\n",
    "c.add_feature(\"iDrive 6.0 Systems\")\n",
    "c.add_feature(\"Dynamic Cruise Control\")\n",
    "assert c.list_features() == [\"iDrive 6.0 Systems\", \"Dynamic Cruise Control\"]\n",
    "# 4\n",
    "assert Car(\"BMW\", 2014, \"M8\") == Car(\"BMW\", 2018, \"M8\")\n",
    "assert Car(\"BMW\", 2014, \"M8\") != Car(\"BMW\", 2014, \"i220\")"
   ]
  },
  {
   "cell_type": "markdown",
   "metadata": {},
   "source": [
    "#### Remaining Problems moved to next assignment..."
   ]
  },
  {
   "cell_type": "code",
   "execution_count": null,
   "metadata": {},
   "outputs": [],
   "source": []
  },
  {
   "cell_type": "code",
   "execution_count": null,
   "metadata": {},
   "outputs": [],
   "source": []
  }
 ],
 "metadata": {
  "kernelspec": {
   "display_name": "Python 3",
   "language": "python",
   "name": "python3"
  },
  "language_info": {
   "codemirror_mode": {
    "name": "ipython",
    "version": 3
   },
   "file_extension": ".py",
   "mimetype": "text/x-python",
   "name": "python",
   "nbconvert_exporter": "python",
   "pygments_lexer": "ipython3",
   "version": "3.7.6"
  }
 },
 "nbformat": 4,
 "nbformat_minor": 4
}
