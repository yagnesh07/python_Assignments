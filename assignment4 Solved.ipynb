{
 "cells": [
  {
   "cell_type": "markdown",
   "metadata": {},
   "source": [
    "## Capstone Project Phase 1:"
   ]
  },
  {
   "cell_type": "markdown",
   "metadata": {},
   "source": [
    "### Assignment 1: Build the team & other logistics \\[3 Points\\]\n",
    "\n",
    "1. Find members, make team.\n",
    "2. Select team lead and create one github repository per team for project.\n",
    "3. Create Readme.MD file and put name of your teammates. Submit the repository link.\n",
    "\n"
   ]
  },
  {
   "cell_type": "markdown",
   "metadata": {},
   "source": [
    "### Assignment 2: Pick Problem Statement & Dataset \\[5 Points\\]\n",
    "\n",
    "1. Define your problem statement. (tentative, can be changed in future)\n",
    "2. Find the dataset for your project.\n",
    "3. Add details of problem statement & dataset link to your github readme file.\n",
    "\n",
    "Github repository link for project  https://github.com/priyam001/Python-Project"
   ]
  },
  {
   "cell_type": "markdown",
   "metadata": {},
   "source": [
    "## Python Pandas Assignment:"
   ]
  },
  {
   "cell_type": "code",
   "execution_count": 5,
   "metadata": {},
   "outputs": [
    {
     "name": "stdout",
     "output_type": "stream",
     "text": [
      "       a  b         c         d\n",
      "0    One  1  1.291937  1.103703\n",
      "1    Two  2  2.980897  2.121426\n",
      "2  Three  2  2.626295  1.631530\n",
      "3  Three  2  2.687135  2.362000\n",
      "4    Two  2  2.870798  2.801499\n",
      "5    Two  2  2.227225  2.510407\n",
      "6  Three  1  2.558644  2.496071\n",
      "7    Two  1  2.904810  1.384938\n",
      "8    Two  1  2.178671  2.625319\n",
      "9    Two  2  2.303803  1.928480\n"
     ]
    }
   ],
   "source": [
    "# Problem: Create dataframe with custom row index & column name. The dimension should be 10x4. \n",
    "#    Custom Index should start from 101 to 110. column name should be `a` to `d`. \n",
    "#    `a` should be strings, `b` should be numbers, `c` & 'd' should be float.\n",
    "#     fill up random values using numpy.random.  [4 Points]\n",
    "import pandas as pd\n",
    "import numpy as np\n",
    "\n",
    "df = pd.DataFrame({\n",
    "    'a': np.random.choice(['One', 'Two', 'Three'], 10),\n",
    "    'b':np.random.randint(1,3,10),\n",
    "    'c':np.random.uniform(1.0,3.0,10),\n",
    "    'd':np.random.uniform(1.0,3.0,10)\n",
    "})\n",
    "print(df)"
   ]
  },
  {
   "cell_type": "code",
   "execution_count": 6,
   "metadata": {},
   "outputs": [
    {
     "data": {
      "text/plain": [
       "100         a  b         c         d\\n   One  1  1.29...\n",
       "101         a  b         c         d\\n   One  1  1.29...\n",
       "102         a  b         c         d\\n   One  1  1.29...\n",
       "103         a  b         c         d\\n   One  1  1.29...\n",
       "dtype: object"
      ]
     },
     "execution_count": 6,
     "metadata": {},
     "output_type": "execute_result"
    }
   ],
   "source": [
    "# Problem: Use the original dataframe to create another dataframe that has rows from index 103 to 108. [1 Points]\n",
    "\n",
    "a=df[0:5]\n",
    "\n",
    "'''\n",
    "c=pd.DataFrame(b,index=[103,104,105,106,107,108,109])\n",
    "c\n",
    "'''\n",
    "b=a.copy().to_string(index=False)\n",
    "d=pd.Series(b, index=[100, 101, 102, 103])\n",
    "d"
   ]
  },
  {
   "cell_type": "code",
   "execution_count": 8,
   "metadata": {},
   "outputs": [
    {
     "data": {
      "text/html": [
       "<div>\n",
       "<style scoped>\n",
       "    .dataframe tbody tr th:only-of-type {\n",
       "        vertical-align: middle;\n",
       "    }\n",
       "\n",
       "    .dataframe tbody tr th {\n",
       "        vertical-align: top;\n",
       "    }\n",
       "\n",
       "    .dataframe thead th {\n",
       "        text-align: right;\n",
       "    }\n",
       "</style>\n",
       "<table border=\"1\" class=\"dataframe\">\n",
       "  <thead>\n",
       "    <tr style=\"text-align: right;\">\n",
       "      <th></th>\n",
       "      <th>a</th>\n",
       "      <th>b</th>\n",
       "      <th>c</th>\n",
       "      <th>d</th>\n",
       "    </tr>\n",
       "  </thead>\n",
       "  <tbody>\n",
       "    <tr>\n",
       "      <th>0</th>\n",
       "      <td>One</td>\n",
       "      <td>1</td>\n",
       "      <td>1.291937</td>\n",
       "      <td>1.103703</td>\n",
       "    </tr>\n",
       "    <tr>\n",
       "      <th>2</th>\n",
       "      <td>Three</td>\n",
       "      <td>2</td>\n",
       "      <td>2.626295</td>\n",
       "      <td>1.631530</td>\n",
       "    </tr>\n",
       "    <tr>\n",
       "      <th>3</th>\n",
       "      <td>Three</td>\n",
       "      <td>2</td>\n",
       "      <td>2.687135</td>\n",
       "      <td>2.362000</td>\n",
       "    </tr>\n",
       "    <tr>\n",
       "      <th>4</th>\n",
       "      <td>Two</td>\n",
       "      <td>2</td>\n",
       "      <td>2.870798</td>\n",
       "      <td>2.801499</td>\n",
       "    </tr>\n",
       "    <tr>\n",
       "      <th>5</th>\n",
       "      <td>Two</td>\n",
       "      <td>2</td>\n",
       "      <td>2.227225</td>\n",
       "      <td>2.510407</td>\n",
       "    </tr>\n",
       "    <tr>\n",
       "      <th>6</th>\n",
       "      <td>Three</td>\n",
       "      <td>1</td>\n",
       "      <td>2.558644</td>\n",
       "      <td>2.496071</td>\n",
       "    </tr>\n",
       "    <tr>\n",
       "      <th>7</th>\n",
       "      <td>Two</td>\n",
       "      <td>1</td>\n",
       "      <td>2.904810</td>\n",
       "      <td>1.384938</td>\n",
       "    </tr>\n",
       "    <tr>\n",
       "      <th>8</th>\n",
       "      <td>Two</td>\n",
       "      <td>1</td>\n",
       "      <td>2.178671</td>\n",
       "      <td>2.625319</td>\n",
       "    </tr>\n",
       "  </tbody>\n",
       "</table>\n",
       "</div>"
      ],
      "text/plain": [
       "       a  b         c         d\n",
       "0    One  1  1.291937  1.103703\n",
       "2  Three  2  2.626295  1.631530\n",
       "3  Three  2  2.687135  2.362000\n",
       "4    Two  2  2.870798  2.801499\n",
       "5    Two  2  2.227225  2.510407\n",
       "6  Three  1  2.558644  2.496071\n",
       "7    Two  1  2.904810  1.384938\n",
       "8    Two  1  2.178671  2.625319"
      ]
     },
     "execution_count": 8,
     "metadata": {},
     "output_type": "execute_result"
    }
   ],
   "source": [
    "# Problem: Use the original dataframe to create another dataframe that does not have first and last row [1 Points]\n",
    "\n",
    "count=df\n",
    "count.drop([1, 9])\n"
   ]
  },
  {
   "cell_type": "code",
   "execution_count": 9,
   "metadata": {},
   "outputs": [
    {
     "name": "stdout",
     "output_type": "stream",
     "text": [
      "One\n",
      "     a  b         c         d\n",
      "0  One  1  1.291937  1.103703\n",
      "Three\n",
      "       a  b         c         d\n",
      "2  Three  2  2.626295  1.631530\n",
      "3  Three  2  2.687135  2.362000\n",
      "6  Three  1  2.558644  2.496071\n",
      "Two\n",
      "     a  b         c         d\n",
      "1  Two  2  2.980897  2.121426\n",
      "4  Two  2  2.870798  2.801499\n",
      "5  Two  2  2.227225  2.510407\n",
      "7  Two  1  2.904810  1.384938\n",
      "8  Two  1  2.178671  2.625319\n",
      "9  Two  2  2.303803  1.928480\n"
     ]
    }
   ],
   "source": [
    "# Problem: Group and print orignal dataframe by column `a`\n",
    "\n",
    "group = df.groupby(['a'])\n",
    "group\n",
    "for a , df in group:\n",
    "    print(a)\n",
    "    print(df)"
   ]
  },
  {
   "cell_type": "code",
   "execution_count": 10,
   "metadata": {},
   "outputs": [
    {
     "data": {
      "text/html": [
       "<div>\n",
       "<style scoped>\n",
       "    .dataframe tbody tr th:only-of-type {\n",
       "        vertical-align: middle;\n",
       "    }\n",
       "\n",
       "    .dataframe tbody tr th {\n",
       "        vertical-align: top;\n",
       "    }\n",
       "\n",
       "    .dataframe thead th {\n",
       "        text-align: right;\n",
       "    }\n",
       "</style>\n",
       "<table border=\"1\" class=\"dataframe\">\n",
       "  <thead>\n",
       "    <tr style=\"text-align: right;\">\n",
       "      <th></th>\n",
       "      <th>b</th>\n",
       "      <th>c</th>\n",
       "    </tr>\n",
       "  </thead>\n",
       "  <tbody>\n",
       "    <tr>\n",
       "      <th>1</th>\n",
       "      <td>2</td>\n",
       "      <td>2.980897</td>\n",
       "    </tr>\n",
       "    <tr>\n",
       "      <th>4</th>\n",
       "      <td>2</td>\n",
       "      <td>2.870798</td>\n",
       "    </tr>\n",
       "    <tr>\n",
       "      <th>5</th>\n",
       "      <td>2</td>\n",
       "      <td>2.227225</td>\n",
       "    </tr>\n",
       "    <tr>\n",
       "      <th>7</th>\n",
       "      <td>1</td>\n",
       "      <td>2.904810</td>\n",
       "    </tr>\n",
       "    <tr>\n",
       "      <th>8</th>\n",
       "      <td>1</td>\n",
       "      <td>2.178671</td>\n",
       "    </tr>\n",
       "    <tr>\n",
       "      <th>9</th>\n",
       "      <td>2</td>\n",
       "      <td>2.303803</td>\n",
       "    </tr>\n",
       "  </tbody>\n",
       "</table>\n",
       "</div>"
      ],
      "text/plain": [
       "   b         c\n",
       "1  2  2.980897\n",
       "4  2  2.870798\n",
       "5  2  2.227225\n",
       "7  1  2.904810\n",
       "8  1  2.178671\n",
       "9  2  2.303803"
      ]
     },
     "execution_count": 10,
     "metadata": {},
     "output_type": "execute_result"
    }
   ],
   "source": [
    "# Problem: Use the orginal dataframe and drop first and last column [1 Points]\n",
    "\n",
    "df.drop(['a','d'], axis = 1)\n"
   ]
  },
  {
   "cell_type": "code",
   "execution_count": null,
   "metadata": {},
   "outputs": [],
   "source": []
  }
 ],
 "metadata": {
  "kernelspec": {
   "display_name": "Python 3",
   "language": "python",
   "name": "python3"
  },
  "language_info": {
   "codemirror_mode": {
    "name": "ipython",
    "version": 3
   },
   "file_extension": ".py",
   "mimetype": "text/x-python",
   "name": "python",
   "nbconvert_exporter": "python",
   "pygments_lexer": "ipython3",
   "version": "3.7.6"
  }
 },
 "nbformat": 4,
 "nbformat_minor": 4
}
